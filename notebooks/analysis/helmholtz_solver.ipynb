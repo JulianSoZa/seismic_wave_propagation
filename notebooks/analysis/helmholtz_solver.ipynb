{
 "cells": [
  {
   "cell_type": "markdown",
   "id": "b1cce0a9",
   "metadata": {},
   "source": [
    "# Evaluation of the Helmholtz Solver"
   ]
  },
  {
   "cell_type": "code",
   "execution_count": 5,
   "id": "f3c16987",
   "metadata": {},
   "outputs": [],
   "source": [
    "import sympy as sym\n",
    "import numpy as np\n",
    "import matplotlib.pyplot as plt"
   ]
  },
  {
   "cell_type": "markdown",
   "id": "4df5c9a5",
   "metadata": {},
   "source": [
    "## 1. Finite Differences"
   ]
  },
  {
   "cell_type": "code",
   "execution_count": 12,
   "id": "24026ba0",
   "metadata": {},
   "outputs": [],
   "source": [
    "u_i_j, u_i1_j, u_1i_j, u_i_j1, u_i_1j = sym.symbols('u_{i\\,j} u_{i+1\\,j} u_{i-1\\,j} u_{i\\,j+1} u_{i\\,j-1}')\n",
    "A_i_j, A_i1_j, A_1i_j = sym.symbols('A_{i\\,j} A_{i+1\\,j} A_{i-1\\,j}')\n",
    "B_i_j, B_i_j1, B_i_1j = sym.symbols('B_{i\\,j} B_{i\\,j+1} B_{i\\,j-1}')\n",
    "C_i_j = sym.symbols('C_{i\\,j}')\n",
    "dx, dy = sym.symbols('Delta_x Delta_y')"
   ]
  },
  {
   "cell_type": "code",
   "execution_count": 20,
   "id": "c15fb478",
   "metadata": {},
   "outputs": [
    {
     "data": {
      "text/latex": [
       "$\\displaystyle \\frac{A_{i,j} \\left(u_{i+1,j} - 2 u_{i,j} + u_{i-1,j}\\right)}{\\Delta_{x}^{2}} + \\frac{B_{i,j} \\left(u_{i,j+1} + u_{i,j-1} - 2 u_{i,j}\\right)}{\\Delta_{y}^{2}} + C_{i,j} u_{i,j} + \\frac{\\left(B_{i,j+1} - B_{i,j-1}\\right) \\left(u_{i,j+1} - u_{i,j-1}\\right)}{4 \\Delta_{y}^{2}} + \\frac{\\left(A_{i+1,j} - A_{i-1,j}\\right) \\left(u_{i+1,j} - u_{i-1,j}\\right)}{4 \\Delta_{x}^{2}}$"
      ],
      "text/plain": [
       "A_{i,j}*(u_{i+1,j} - 2*u_{i,j} + u_{i-1,j})/Delta_x**2 + B_{i,j}*(u_{i,j+1} + u_{i,j-1} - 2*u_{i,j})/Delta_y**2 + C_{i,j}*u_{i,j} + (B_{i,j+1} - B_{i,j-1})*(u_{i,j+1} - u_{i,j-1})/(4*Delta_y**2) + (A_{i+1,j} - A_{i-1,j})*(u_{i+1,j} - u_{i-1,j})/(4*Delta_x**2)"
      ]
     },
     "execution_count": 20,
     "metadata": {},
     "output_type": "execute_result"
    }
   ],
   "source": [
    "expr = (  1/(2*dx) * (A_i1_j - A_1i_j) * 1/(2*dx) * (u_i1_j - u_1i_j)\n",
    "        + A_i_j/(dx**2) * (u_i1_j - 2*u_i_j + u_1i_j)\n",
    "        + 1/(2*dy) * (B_i_j1 - B_i_1j) * 1/(2*dy) * (u_i_j1 - u_i_1j)\n",
    "        + B_i_j/(dy**2) * (u_i_j1 - 2*u_i_j + u_i_1j)\n",
    "        + C_i_j * u_i_j)\n",
    "expr"
   ]
  },
  {
   "cell_type": "code",
   "execution_count": 21,
   "id": "f3c91305",
   "metadata": {},
   "outputs": [
    {
     "data": {
      "text/latex": [
       "$\\displaystyle u_{i+1,j} \\left(\\frac{A_{i+1,j}}{4 \\Delta_{x}^{2}} + \\frac{A_{i,j}}{\\Delta_{x}^{2}} - \\frac{A_{i-1,j}}{4 \\Delta_{x}^{2}}\\right) + u_{i,j+1} \\left(\\frac{B_{i,j+1}}{4 \\Delta_{y}^{2}} - \\frac{B_{i,j-1}}{4 \\Delta_{y}^{2}} + \\frac{B_{i,j}}{\\Delta_{y}^{2}}\\right) + u_{i,j-1} \\left(- \\frac{B_{i,j+1}}{4 \\Delta_{y}^{2}} + \\frac{B_{i,j-1}}{4 \\Delta_{y}^{2}} + \\frac{B_{i,j}}{\\Delta_{y}^{2}}\\right) + u_{i,j} \\left(- \\frac{2 A_{i,j}}{\\Delta_{x}^{2}} - \\frac{2 B_{i,j}}{\\Delta_{y}^{2}} + C_{i,j}\\right) + u_{i-1,j} \\left(- \\frac{A_{i+1,j}}{4 \\Delta_{x}^{2}} + \\frac{A_{i,j}}{\\Delta_{x}^{2}} + \\frac{A_{i-1,j}}{4 \\Delta_{x}^{2}}\\right)$"
      ],
      "text/plain": [
       "u_{i+1,j}*(A_{i+1,j}/(4*Delta_x**2) + A_{i,j}/Delta_x**2 - A_{i-1,j}/(4*Delta_x**2)) + u_{i,j+1}*(B_{i,j+1}/(4*Delta_y**2) - B_{i,j-1}/(4*Delta_y**2) + B_{i,j}/Delta_y**2) + u_{i,j-1}*(-B_{i,j+1}/(4*Delta_y**2) + B_{i,j-1}/(4*Delta_y**2) + B_{i,j}/Delta_y**2) + u_{i,j}*(-2*A_{i,j}/Delta_x**2 - 2*B_{i,j}/Delta_y**2 + C_{i,j}) + u_{i-1,j}*(-A_{i+1,j}/(4*Delta_x**2) + A_{i,j}/Delta_x**2 + A_{i-1,j}/(4*Delta_x**2))"
      ]
     },
     "execution_count": 21,
     "metadata": {},
     "output_type": "execute_result"
    }
   ],
   "source": [
    "expr_terms_collected = sym.collect(sym.expand(expr), [u_i_j, u_i1_j, u_1i_j, u_i_j1, u_i_1j])\n",
    "expr_terms_collected"
   ]
  },
  {
   "cell_type": "markdown",
   "id": "b94913fd",
   "metadata": {},
   "source": []
  }
 ],
 "metadata": {
  "kernelspec": {
   "display_name": "base",
   "language": "python",
   "name": "python3"
  },
  "language_info": {
   "codemirror_mode": {
    "name": "ipython",
    "version": 3
   },
   "file_extension": ".py",
   "mimetype": "text/x-python",
   "name": "python",
   "nbconvert_exporter": "python",
   "pygments_lexer": "ipython3",
   "version": "3.13.5"
  }
 },
 "nbformat": 4,
 "nbformat_minor": 5
}
